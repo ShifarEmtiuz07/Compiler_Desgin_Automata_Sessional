{
 "cells": [
  {
   "cell_type": "code",
   "execution_count": 1,
   "metadata": {},
   "outputs": [],
   "source": [
    "import graphviz\n",
    "from tabulate import tabulate\n",
    "from IPython.display import display, Image"
   ]
  },
  {
   "cell_type": "code",
   "execution_count": 2,
   "metadata": {},
   "outputs": [],
   "source": [
    "class DFA:\n",
    "    def __init__(self, states, alphabet, transitions, start_state, accept_states):\n",
    "        self.states = states\n",
    "        self.alphabet = alphabet\n",
    "        self.transitions = transitions\n",
    "        self.start_state = start_state\n",
    "        self.accept_states = accept_states\n",
    "\n",
    "    def process_input(self, input_string):\n",
    "        current_state = self.start_state\n",
    "        for symbol in input_string:\n",
    "            current_state = self.transitions.get((current_state, symbol), None)\n",
    "            if current_state is None:\n",
    "                return False\n",
    "        return current_state in self.accept_states\n",
    "\n",
    "    def generate_state_table(self):\n",
    "        headers = ['State'] + list(self.alphabet) + ['Accepting']\n",
    "        rows = []\n",
    "\n",
    "        for state in self.states:\n",
    "            row = [state]\n",
    "            for symbol in self.alphabet:\n",
    "                next_state = self.transitions.get((state, symbol), None)\n",
    "                row.append(next_state)\n",
    "            row.append('Yes' if state in self.accept_states else 'No')\n",
    "            rows.append(row)\n",
    "\n",
    "        return tabulate(rows, headers=headers, tablefmt='grid')"
   ]
  },
  {
   "cell_type": "code",
   "execution_count": 3,
   "metadata": {},
   "outputs": [],
   "source": [
    "\n",
    "def visualize_dfa(dfa):\n",
    "    dot = graphviz.Digraph('DFA', format='png')\n",
    "    dot.attr(rankdir='LR')\n",
    "\n",
    "    for state in dfa.states:\n",
    "        dot.node(state, shape='doublecircle' if state in dfa.accept_states else 'circle')\n",
    "\n",
    "    for transition, next_state in dfa.transitions.items():\n",
    "        dot.edge(transition[0], next_state, label=transition[1])\n",
    "\n",
    "    dot.render('dfa', format='png', cleanup=True)\n",
    "    file_path = \"dfa\"\n",
    "    png_file_path = f\"{file_path}.png\"\n",
    "    display(Image(filename=png_file_path))\n",
    "    print(\"DFA visualization saved as 'dfa.png'\")\n"
   ]
  },
  {
   "cell_type": "code",
   "execution_count": 4,
   "metadata": {},
   "outputs": [
    {
     "data": {
      "image/png": "[encoded data removed]",
      "text/plain": [
       "<IPython.core.display.Image object>"
      ]
     },
     "metadata": {},
     "output_type": "display_data"
    },
    {
     "name": "stdout",
     "output_type": "stream",
     "text": [
      "DFA visualization saved as 'dfa.png'\n",
      "\n",
      "State Table:\n",
      "+---------+-----+-----+-------------+\n",
      "| State   | b   | a   | Accepting   |\n",
      "+=========+=====+=====+=============+\n",
      "| q1      | q3  | q0  | No          |\n",
      "+---------+-----+-----+-------------+\n",
      "| q3      | q1  | q2  | No          |\n",
      "+---------+-----+-----+-------------+\n",
      "| q0      | q2  | q1  | Yes         |\n",
      "+---------+-----+-----+-------------+\n",
      "| q2      | q0  | q3  | No          |\n",
      "+---------+-----+-----+-------------+\n",
      "The DFA accepts the input string 'aabb'\n"
     ]
    }
   ],
   "source": [
    "\n",
    "# Example DFA for the language of strings ending with 'ab'\n",
    "states = {'q0', 'q1', 'q2','q3'}\n",
    "alphabet = {'a', 'b'}\n",
    "transitions = {('q0', 'a'): 'q1', ('q0', 'b'): 'q2', ('q1', 'a'): 'q0', ('q1', 'b'): 'q3', ('q2', 'a'): 'q3', ('q2', 'b'): 'q0',('q3', 'a'): 'q2',('q3', 'b'): 'q1'}\n",
    "start_state = 'q0'\n",
    "accept_states = {'q0'}\n",
    "\n",
    "dfa_example = DFA(states, alphabet, transitions, start_state, accept_states)\n",
    "\n",
    "# Visualize the DFA\n",
    "visualize_dfa(dfa_example)\n",
    "\n",
    "# Generate and print the state table\n",
    "state_table = dfa_example.generate_state_table()\n",
    "print(\"\\nState Table:\")\n",
    "print(state_table)\n",
    "\n",
    "input_string = 'aabb'\n",
    "result = dfa_example.process_input(input_string)\n",
    "print(f\"The DFA {'accepts' if result else 'rejects'} the input string '{input_string}'\")"
   ]
  }
 ],
 "metadata": {
  "kernelspec": {
   "display_name": "Python 3",
   "language": "python",
   "name": "python3"
  },
  "language_info": {
   "codemirror_mode": {
    "name": "ipython",
    "version": 3
   },
   "file_extension": ".py",
   "mimetype": "text/x-python",
   "name": "python",
   "nbconvert_exporter": "python",
   "pygments_lexer": "ipython3",
   "version": "3.12.0"
  }
 },
 "nbformat": 4,
 "nbformat_minor": 2
}
